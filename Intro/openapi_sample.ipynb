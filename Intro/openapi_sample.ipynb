{
 "cells": [
  {
   "cell_type": "code",
   "execution_count": null,
   "id": "2e77db56",
   "metadata": {},
   "outputs": [
    {
     "data": {
      "text/plain": [
       "True"
      ]
     },
     "execution_count": 4,
     "metadata": {},
     "output_type": "execute_result"
    }
   ],
   "source": [
    "from dotenv import load_dotenv, find_dotenv\n",
    "\n",
    "load_dotenv(find_dotenv())\n",
    "\n",
    "# Need to setup an .env variable with this name:\n",
    "# OPENAI_API_KEY="
   ]
  },
  {
   "cell_type": "code",
   "execution_count": null,
   "id": "85a1b4b5",
   "metadata": {},
   "outputs": [],
   "source": [
    "import openai\n",
    "\n",
    "# Messages in any LLM\n",
    "# - System Message | System Prompt ---> This message will help LLM understand his persona.\n",
    "# - User Message (Human Message) ---> This message is all about providing your actual question/task to the LLM\n",
    "# - Assistant Message ---> Ideally, a response generated for a user message\n",
    "\n",
    "\n",
    "#Temperature - Its all about making an LLM answer based on a threshold of facts to creative\n",
    "# \n",
    "#      0 ------------------------- 1\n",
    "#.   Factual                      Creative (Hallucination problems)\n",
    "\n",
    "\n",
    "prompt = input(\"Enter your prompt: \")\n",
    "\n",
    "response = openai.chat.completions.create(\n",
    "    model = \"gpt-4o-mini\",\n",
    "    messages=[\n",
    "        {\"role\":\"system\", \"content\":\"Act as a data engineer and answer every question technically\"},\n",
    "        {\"role\":\"user\",\"content\":\"Hi\"},\n",
    "        {\"role\":\"assistant\", \"content\":\"Welcome to Data Engineer's Hub. How may I help u?\"},\n",
    "        {\"role\":\"user\",\"content\":prompt},\n",
    "    ],\n",
    "    temperature=0.2,\n",
    "    \n",
    ")"
   ]
  },
  {
   "cell_type": "code",
   "execution_count": 10,
   "id": "bfdcd4af",
   "metadata": {},
   "outputs": [
    {
     "data": {
      "text/plain": [
       "{'id': 'chatcmpl-Bx1kHzvrhrfFsGkxhTJnlET0herMt',\n",
       " 'choices': [{'finish_reason': 'stop',\n",
       "   'index': 0,\n",
       "   'logprobs': None,\n",
       "   'message': {'content': 'Firebase is a platform developed by Google that provides a suite of tools and services to help developers build, improve, and grow their applications. It is particularly popular for mobile and web application development. Here are some key components and features of Firebase:\\n\\n1. **Real-time Database**: A NoSQL cloud database that allows data to be stored and synced in real-time across all clients. It uses a JSON tree structure and is optimized for real-time data synchronization.\\n\\n2. **Cloud Firestore**: A flexible, scalable database for mobile, web, and server development from Firebase and Google Cloud Platform. It offers more advanced querying capabilities compared to the Realtime Database and supports hierarchical data structures.\\n\\n3. **Authentication**: Firebase Authentication provides backend services to help authenticate users, including support for email/password login, social media logins (like Google, Facebook, Twitter), and anonymous authentication.\\n\\n4. **Cloud Functions**: A serverless framework that allows you to run backend code in response to events triggered by Firebase features and HTTPS requests. This is useful for executing custom business logic without managing servers.\\n\\n5. **Cloud Storage**: A service for storing and serving user-generated content, such as images and videos. It is designed to scale automatically and provides robust security features.\\n\\n6. **Hosting**: Firebase Hosting provides fast and secure hosting for web applications, static and dynamic content, and microservices. It supports HTTPS and has a global content delivery network (CDN).\\n\\n7. **Analytics**: Firebase Analytics is a free app measurement solution that provides insights on app usage and user engagement. It integrates with other Firebase services to help track user behavior.\\n\\n8. **Crashlytics**: A lightweight crash reporting tool that helps developers track and fix stability issues in their applications.\\n\\n9. **Cloud Messaging**: Firebase Cloud Messaging (FCM) allows you to send notifications and messages to users across platforms (iOS, Android, and web).\\n\\n10. **Performance Monitoring**: A tool that helps you gain insight into the performance characteristics of your app, allowing you to identify and fix performance issues.\\n\\nFirebase is designed to be easy to integrate with various platforms and languages, making it a popular choice for developers looking to build scalable applications quickly. It also provides a pay-as-you-go pricing model, which can be beneficial for startups and small projects.',\n",
       "    'refusal': None,\n",
       "    'role': 'assistant',\n",
       "    'annotations': [],\n",
       "    'audio': None,\n",
       "    'function_call': None,\n",
       "    'tool_calls': None}}],\n",
       " 'created': 1753407761,\n",
       " 'model': 'gpt-4o-mini-2024-07-18',\n",
       " 'object': 'chat.completion',\n",
       " 'service_tier': 'default',\n",
       " 'system_fingerprint': 'fp_34a54ae93c',\n",
       " 'usage': {'completion_tokens': 468,\n",
       "  'prompt_tokens': 47,\n",
       "  'total_tokens': 515,\n",
       "  'completion_tokens_details': {'accepted_prediction_tokens': 0,\n",
       "   'audio_tokens': 0,\n",
       "   'reasoning_tokens': 0,\n",
       "   'rejected_prediction_tokens': 0},\n",
       "  'prompt_tokens_details': {'audio_tokens': 0, 'cached_tokens': 0}}}"
      ]
     },
     "execution_count": 10,
     "metadata": {},
     "output_type": "execute_result"
    }
   ],
   "source": [
    "resp = response.model_dump()\n",
    "resp"
   ]
  },
  {
   "cell_type": "code",
   "execution_count": 11,
   "id": "ce4edbd0",
   "metadata": {},
   "outputs": [
    {
     "name": "stdout",
     "output_type": "stream",
     "text": [
      "Firebase is a platform developed by Google that provides a suite of tools and services to help developers build, improve, and grow their applications. It is particularly popular for mobile and web application development. Here are some key components and features of Firebase:\n",
      "\n",
      "1. **Real-time Database**: A NoSQL cloud database that allows data to be stored and synced in real-time across all clients. It uses a JSON tree structure and is optimized for real-time data synchronization.\n",
      "\n",
      "2. **Cloud Firestore**: A flexible, scalable database for mobile, web, and server development from Firebase and Google Cloud Platform. It offers more advanced querying capabilities compared to the Realtime Database and supports hierarchical data structures.\n",
      "\n",
      "3. **Authentication**: Firebase Authentication provides backend services to help authenticate users, including support for email/password login, social media logins (like Google, Facebook, Twitter), and anonymous authentication.\n",
      "\n",
      "4. **Cloud Functions**: A serverless framework that allows you to run backend code in response to events triggered by Firebase features and HTTPS requests. This is useful for executing custom business logic without managing servers.\n",
      "\n",
      "5. **Cloud Storage**: A service for storing and serving user-generated content, such as images and videos. It is designed to scale automatically and provides robust security features.\n",
      "\n",
      "6. **Hosting**: Firebase Hosting provides fast and secure hosting for web applications, static and dynamic content, and microservices. It supports HTTPS and has a global content delivery network (CDN).\n",
      "\n",
      "7. **Analytics**: Firebase Analytics is a free app measurement solution that provides insights on app usage and user engagement. It integrates with other Firebase services to help track user behavior.\n",
      "\n",
      "8. **Crashlytics**: A lightweight crash reporting tool that helps developers track and fix stability issues in their applications.\n",
      "\n",
      "9. **Cloud Messaging**: Firebase Cloud Messaging (FCM) allows you to send notifications and messages to users across platforms (iOS, Android, and web).\n",
      "\n",
      "10. **Performance Monitoring**: A tool that helps you gain insight into the performance characteristics of your app, allowing you to identify and fix performance issues.\n",
      "\n",
      "Firebase is designed to be easy to integrate with various platforms and languages, making it a popular choice for developers looking to build scalable applications quickly. It also provides a pay-as-you-go pricing model, which can be beneficial for startups and small projects.\n"
     ]
    }
   ],
   "source": [
    "# Extract message.content\n",
    "content = resp['choices'][0]['message']['content']\n",
    "print(content)"
   ]
  },
  {
   "cell_type": "code",
   "execution_count": null,
   "id": "fe45cc28",
   "metadata": {},
   "outputs": [],
   "source": []
  }
 ],
 "metadata": {
  "kernelspec": {
   "display_name": "langchainenv",
   "language": "python",
   "name": "python3"
  },
  "language_info": {
   "codemirror_mode": {
    "name": "ipython",
    "version": 3
   },
   "file_extension": ".py",
   "mimetype": "text/x-python",
   "name": "python",
   "nbconvert_exporter": "python",
   "pygments_lexer": "ipython3",
   "version": "3.11.13"
  }
 },
 "nbformat": 4,
 "nbformat_minor": 5
}
