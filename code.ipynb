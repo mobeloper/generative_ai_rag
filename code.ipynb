{
 "cells": [
  {
   "cell_type": "code",
   "execution_count": 1,
   "id": "82bc04b1",
   "metadata": {},
   "outputs": [
    {
     "data": {
      "text/plain": [
       "True"
      ]
     },
     "execution_count": 1,
     "metadata": {},
     "output_type": "execute_result"
    }
   ],
   "source": [
    "from dotenv import load_dotenv, find_dotenv\n",
    "load_dotenv(find_dotenv())"
   ]
  },
  {
   "cell_type": "code",
   "execution_count": 13,
   "id": "63aa0811",
   "metadata": {},
   "outputs": [],
   "source": [
    "import openai\n",
    "\n",
    "# Messages in any LLM\n",
    "# System Message | System Prompt ---> This message will help LLM understand his persona.\n",
    "# User Message (Human Message) | ---> This message is all about providing your actual question/task to the LLM\n",
    "# Assistant Message ----------------> Ideally, a response generated for a user message\n",
    "\n",
    "query = input(\"Enter your query: \")\n",
    "\n",
    "response = openai.chat.completions.create(\n",
    "    model=\"gpt-4o-mini\",\n",
    "    messages=[\n",
    "        {\"role\":\"system\", \"content\":\"Act as a data engineer and answer every question technically\"},\n",
    "        {\"role\":\"user\",\"content\":\"Hi\"},\n",
    "        {\"role\":\"assistant\" , \"content\": \"Welcome to Data Engineer's Hub. How may I help u ?\"},\n",
    "        {\"role\":\"user\",\"content\":query}\n",
    "        \n",
    "    ],\n",
    "    temperature=1\n",
    ")"
   ]
  },
  {
   "cell_type": "code",
   "execution_count": null,
   "id": "cc9e4a79",
   "metadata": {},
   "outputs": [],
   "source": [
    "#Temperature - Its all about making an LLM answer based on a threshold of facts to creative\n",
    "# \n",
    "#      0 ------------------------- 1\n",
    "#.   Factual                      Creative"
   ]
  },
  {
   "cell_type": "code",
   "execution_count": 14,
   "id": "53e351fd",
   "metadata": {},
   "outputs": [
    {
     "data": {
      "text/plain": [
       "{'id': 'chatcmpl-Bx1PUtzrH1e09qeqU5UvSYneCxX7t',\n",
       " 'choices': [{'finish_reason': 'stop',\n",
       "   'index': 0,\n",
       "   'logprobs': None,\n",
       "   'message': {'content': 'Hello again! If you have any questions related to data engineering, data pipelines, ETL processes, databases, or anything else in the data domain, feel free to ask!',\n",
       "    'refusal': None,\n",
       "    'role': 'assistant',\n",
       "    'annotations': [],\n",
       "    'audio': None,\n",
       "    'function_call': None,\n",
       "    'tool_calls': None}}],\n",
       " 'created': 1753406472,\n",
       " 'model': 'gpt-4o-mini-2024-07-18',\n",
       " 'object': 'chat.completion',\n",
       " 'service_tier': 'default',\n",
       " 'system_fingerprint': 'fp_197a02a720',\n",
       " 'usage': {'completion_tokens': 35,\n",
       "  'prompt_tokens': 44,\n",
       "  'total_tokens': 79,\n",
       "  'completion_tokens_details': {'accepted_prediction_tokens': 0,\n",
       "   'audio_tokens': 0,\n",
       "   'reasoning_tokens': 0,\n",
       "   'rejected_prediction_tokens': 0},\n",
       "  'prompt_tokens_details': {'audio_tokens': 0, 'cached_tokens': 0}}}"
      ]
     },
     "execution_count": 14,
     "metadata": {},
     "output_type": "execute_result"
    }
   ],
   "source": [
    "response.model_dump()"
   ]
  },
  {
   "cell_type": "code",
   "execution_count": null,
   "id": "5b9ebd14",
   "metadata": {},
   "outputs": [],
   "source": []
  }
 ],
 "metadata": {
  "kernelspec": {
   "display_name": "Python 3",
   "language": "python",
   "name": "python3"
  },
  "language_info": {
   "codemirror_mode": {
    "name": "ipython",
    "version": 3
   },
   "file_extension": ".py",
   "mimetype": "text/x-python",
   "name": "python",
   "nbconvert_exporter": "python",
   "pygments_lexer": "ipython3",
   "version": "3.11.13"
  }
 },
 "nbformat": 4,
 "nbformat_minor": 5
}
