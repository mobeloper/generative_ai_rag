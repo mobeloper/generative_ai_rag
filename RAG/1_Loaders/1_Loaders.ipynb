{
 "cells": [
  {
   "cell_type": "markdown",
   "id": "b06e7130",
   "metadata": {
    "vscode": {
     "languageId": "raw"
    }
   },
   "source": [
    "Loaders are a core part of the LangChain framework, designed to ingest data from various sources—text, \n",
    "PDFs, web pages, databases, emails, and more—so you can process, chunk, embed, or use it in RAG or LLM pipelines.\n",
    "\n"
   ]
  },
  {
   "cell_type": "code",
   "execution_count": 1,
   "id": "2915a382",
   "metadata": {},
   "outputs": [],
   "source": [
    "# pip install --upgrade pip\n",
    "\n",
    "# pip install pypdf bs4 unstructured"
   ]
  },
  {
   "cell_type": "code",
   "execution_count": 2,
   "id": "c134cb60",
   "metadata": {},
   "outputs": [
    {
     "data": {
      "text/plain": [
       "True"
      ]
     },
     "execution_count": 2,
     "metadata": {},
     "output_type": "execute_result"
    }
   ],
   "source": [
    "from dotenv import load_dotenv, find_dotenv\n",
    "\n",
    "load_dotenv(find_dotenv())"
   ]
  },
  {
   "cell_type": "code",
   "execution_count": 3,
   "id": "76e61cba",
   "metadata": {},
   "outputs": [],
   "source": [
    "# 1. Text Loaders\n",
    "\n",
    "# Purpose: Load plain text files or strings.\n",
    "\n",
    "from langchain_community.document_loaders import TextLoader\n",
    "\n",
    "loader = TextLoader('demo.txt')\n",
    "docs = loader.load()"
   ]
  },
  {
   "cell_type": "code",
   "execution_count": 4,
   "id": "8702505e",
   "metadata": {},
   "outputs": [
    {
     "data": {
      "text/plain": [
       "[Document(metadata={'source': 'demo.txt'}, page_content='This is an example of using text file in langchain\\nlangchain is a powerful framework')]"
      ]
     },
     "execution_count": 4,
     "metadata": {},
     "output_type": "execute_result"
    }
   ],
   "source": [
    "docs"
   ]
  },
  {
   "cell_type": "code",
   "execution_count": 5,
   "id": "3a47e4a0",
   "metadata": {},
   "outputs": [
    {
     "data": {
      "text/plain": [
       "[Document(metadata={'producer': 'Skia/PDF m140 Google Docs Renderer', 'creator': 'PyPDF', 'creationdate': '', 'title': 'Untitled document', 'source': 'demo.pdf', 'total_pages': 1, 'page': 0, 'page_label': '1'}, page_content=\"The  hippocampus is  a  major  component  of  the  brain of  humans and  many  other  vertebrates.  It  plays  important  roles  in  the  consolidation of  information  from  short-term  memory to  long-term  memory,  and  in  spatial  memory that  enables  navigation.  In  humans  and  other  primates,  the  hippocampus  is  located  in  the  archicortex,  one  of  the  three  regions  of  allocortex,  in  each  hemisphere.  The  hippocampus  is  a  structure  found  in  all  vertebrates.  In  Alzheimer's  disease (and  other  forms  of  dementia),  the  hippocampus  is  one  of  the  first  regions  of  the  brain  to  suffer  damage;  short-term  memory  loss and  disorientation are  included  among  the  early  symptoms.  Damage  to  the  hippocampus  can  also  result  from  oxygen  starvation,  encephalitis or  medial  temporal  lobe  epilepsy.  Since  different  neuronal  cell  types are  neatly  organized  into  layers  in  the  hippocampus,  it  has  frequently  been  used  as  a  model  system for  studying  neurophysiology.\")]"
      ]
     },
     "execution_count": 5,
     "metadata": {},
     "output_type": "execute_result"
    }
   ],
   "source": [
    "# 2. PDF Loaders\n",
    "\n",
    "# Purpose: Extract text from PDF documents.\n",
    "\n",
    "\n",
    "from langchain_community.document_loaders import PyPDFLoader\n",
    "\n",
    "loader = PyPDFLoader('demo.pdf')\n",
    "docs = loader.load()\n",
    "docs"
   ]
  },
  {
   "cell_type": "code",
   "execution_count": 6,
   "id": "32613144",
   "metadata": {},
   "outputs": [
    {
     "name": "stderr",
     "output_type": "stream",
     "text": [
      "USER_AGENT environment variable not set, consider setting it to identify your requests.\n"
     ]
    },
    {
     "data": {
      "text/plain": [
       "[Document(metadata={'source': 'https://www.example.com', 'title': 'Example Domain', 'language': 'No language found.'}, page_content='\\n\\n\\nExample Domain\\n\\n\\n\\n\\n\\n\\n\\nExample Domain\\nThis domain is for use in illustrative examples in documents. You may use this\\n    domain in literature without prior coordination or asking for permission.\\nMore information...\\n\\n\\n\\n')]"
      ]
     },
     "execution_count": 6,
     "metadata": {},
     "output_type": "execute_result"
    }
   ],
   "source": [
    "# 3. Web Page Loaders\n",
    "\n",
    "# Purpose: Scrape or extract text/content from URLs.\n",
    "\n",
    "from langchain_community.document_loaders import WebBaseLoader\n",
    "\n",
    "#headers = {\"User-Agent\": \"my-cool-app/1.0 (contact: youremail@example.com)\"}\n",
    "loader = WebBaseLoader(\"https://www.example.com\")\n",
    "docs = loader.load()\n",
    "\n",
    "docs"
   ]
  },
  {
   "cell_type": "code",
   "execution_count": 7,
   "id": "256df75e",
   "metadata": {},
   "outputs": [
    {
     "name": "stderr",
     "output_type": "stream",
     "text": [
      "libmagic is unavailable but assists in filetype detection. Please consider installing libmagic for better results.\n",
      "short text: \"1,Prashant,10000\". Defaulting to English.\n",
      "short text: \"2,Arun,200000\". Defaulting to English.\n",
      "short text: \"3,Akhil,3443343\". Defaulting to English.\n",
      "short text: \"4,Rajesh,87587\". Defaulting to English.\n",
      "short text: \"5,Nikhil,8755\". Defaulting to English.\n",
      "libmagic is unavailable but assists in filetype detection. Please consider installing libmagic for better results.\n",
      "short text: \"6,Akbar,83939 7,Rohan,38393\". Defaulting to English.\n"
     ]
    },
    {
     "data": {
      "text/plain": [
       "[Document(metadata={'source': 'dataset/empData.txt'}, page_content='1,Prashant,10000\\n\\n2,Arun,200000\\n\\n3,Akhil,3443343\\n\\n4,Rajesh,87587\\n\\n5,Nikhil,8755'),\n",
       " Document(metadata={'source': 'dataset/empData2.txt'}, page_content='6,Akbar,83939\\n\\n7,Rohan,38393')]"
      ]
     },
     "execution_count": 7,
     "metadata": {},
     "output_type": "execute_result"
    }
   ],
   "source": [
    "# 4. Directory Loaders\n",
    "\n",
    "# Purpose: Load all files from a folder (with options for file types).\n",
    "\n",
    "#pip install unstructured\n",
    "\n",
    "from langchain_community.document_loaders import DirectoryLoader\n",
    "\n",
    "loader = DirectoryLoader('dataset', glob='**/*.txt')\n",
    "docs = loader.load()\n",
    "\n",
    "docs\n"
   ]
  },
  {
   "cell_type": "code",
   "execution_count": 8,
   "id": "c450d0af",
   "metadata": {},
   "outputs": [
    {
     "data": {
      "text/plain": [
       "[Document(metadata={'source': '50_Startups.csv', 'row': 0}, page_content='R&D Spend: 165349.2\\nAdministration: 136897.8\\nMarketing Spend: 471784.1\\nState: New York\\nProfit: 192261.83'),\n",
       " Document(metadata={'source': '50_Startups.csv', 'row': 1}, page_content='R&D Spend: 162597.7\\nAdministration: 151377.59\\nMarketing Spend: 443898.53\\nState: California\\nProfit: 191792.06'),\n",
       " Document(metadata={'source': '50_Startups.csv', 'row': 2}, page_content='R&D Spend: 153441.51\\nAdministration: 101145.55\\nMarketing Spend: 407934.54\\nState: Florida\\nProfit: 191050.39'),\n",
       " Document(metadata={'source': '50_Startups.csv', 'row': 3}, page_content='R&D Spend: 144372.41\\nAdministration: 118671.85\\nMarketing Spend: 383199.62\\nState: New York\\nProfit: 182901.99'),\n",
       " Document(metadata={'source': '50_Startups.csv', 'row': 4}, page_content='R&D Spend: 142107.34\\nAdministration: 91391.77\\nMarketing Spend: 366168.42\\nState: Florida\\nProfit: 166187.94'),\n",
       " Document(metadata={'source': '50_Startups.csv', 'row': 5}, page_content='R&D Spend: 131876.9\\nAdministration: 99814.71\\nMarketing Spend: 362861.36\\nState: New York\\nProfit: 156991.12'),\n",
       " Document(metadata={'source': '50_Startups.csv', 'row': 6}, page_content='R&D Spend: 134615.46\\nAdministration: 147198.87\\nMarketing Spend: 127716.82\\nState: California\\nProfit: 156122.51'),\n",
       " Document(metadata={'source': '50_Startups.csv', 'row': 7}, page_content='R&D Spend: 130298.13\\nAdministration: 145530.06\\nMarketing Spend: 323876.68\\nState: Florida\\nProfit: 155752.6'),\n",
       " Document(metadata={'source': '50_Startups.csv', 'row': 8}, page_content='R&D Spend: 120542.52\\nAdministration: 148718.95\\nMarketing Spend: 311613.29\\nState: New York\\nProfit: 152211.77'),\n",
       " Document(metadata={'source': '50_Startups.csv', 'row': 9}, page_content='R&D Spend: 123334.88\\nAdministration: 108679.17\\nMarketing Spend: 304981.62\\nState: California\\nProfit: 149759.96'),\n",
       " Document(metadata={'source': '50_Startups.csv', 'row': 10}, page_content='R&D Spend: 101913.08\\nAdministration: 110594.11\\nMarketing Spend: 229160.95\\nState: Florida\\nProfit: 146121.95'),\n",
       " Document(metadata={'source': '50_Startups.csv', 'row': 11}, page_content='R&D Spend: 100671.96\\nAdministration: 91790.61\\nMarketing Spend: 249744.55\\nState: California\\nProfit: 144259.4'),\n",
       " Document(metadata={'source': '50_Startups.csv', 'row': 12}, page_content='R&D Spend: 93863.75\\nAdministration: 127320.38\\nMarketing Spend: 249839.44\\nState: Florida\\nProfit: 141585.52'),\n",
       " Document(metadata={'source': '50_Startups.csv', 'row': 13}, page_content='R&D Spend: 91992.39\\nAdministration: 135495.07\\nMarketing Spend: 252664.93\\nState: California\\nProfit: 134307.35'),\n",
       " Document(metadata={'source': '50_Startups.csv', 'row': 14}, page_content='R&D Spend: 119943.24\\nAdministration: 156547.42\\nMarketing Spend: 256512.92\\nState: Florida\\nProfit: 132602.65'),\n",
       " Document(metadata={'source': '50_Startups.csv', 'row': 15}, page_content='R&D Spend: 114523.61\\nAdministration: 122616.84\\nMarketing Spend: 261776.23\\nState: New York\\nProfit: 129917.04'),\n",
       " Document(metadata={'source': '50_Startups.csv', 'row': 16}, page_content='R&D Spend: 78013.11\\nAdministration: 121597.55\\nMarketing Spend: 264346.06\\nState: California\\nProfit: 126992.93'),\n",
       " Document(metadata={'source': '50_Startups.csv', 'row': 17}, page_content='R&D Spend: 94657.16\\nAdministration: 145077.58\\nMarketing Spend: 282574.31\\nState: New York\\nProfit: 125370.37'),\n",
       " Document(metadata={'source': '50_Startups.csv', 'row': 18}, page_content='R&D Spend: 91749.16\\nAdministration: 114175.79\\nMarketing Spend: 294919.57\\nState: Florida\\nProfit: 124266.9'),\n",
       " Document(metadata={'source': '50_Startups.csv', 'row': 19}, page_content='R&D Spend: 86419.7\\nAdministration: 153514.11\\nMarketing Spend: 0\\nState: New York\\nProfit: 122776.86'),\n",
       " Document(metadata={'source': '50_Startups.csv', 'row': 20}, page_content='R&D Spend: 76253.86\\nAdministration: 113867.3\\nMarketing Spend: 298664.47\\nState: California\\nProfit: 118474.03'),\n",
       " Document(metadata={'source': '50_Startups.csv', 'row': 21}, page_content='R&D Spend: 78389.47\\nAdministration: 153773.43\\nMarketing Spend: 299737.29\\nState: New York\\nProfit: 111313.02'),\n",
       " Document(metadata={'source': '50_Startups.csv', 'row': 22}, page_content='R&D Spend: 73994.56\\nAdministration: 122782.75\\nMarketing Spend: 303319.26\\nState: Florida\\nProfit: 110352.25'),\n",
       " Document(metadata={'source': '50_Startups.csv', 'row': 23}, page_content='R&D Spend: 67532.53\\nAdministration: 105751.03\\nMarketing Spend: 304768.73\\nState: Florida\\nProfit: 108733.99'),\n",
       " Document(metadata={'source': '50_Startups.csv', 'row': 24}, page_content='R&D Spend: 77044.01\\nAdministration: 99281.34\\nMarketing Spend: 140574.81\\nState: New York\\nProfit: 108552.04'),\n",
       " Document(metadata={'source': '50_Startups.csv', 'row': 25}, page_content='R&D Spend: 64664.71\\nAdministration: 139553.16\\nMarketing Spend: 137962.62\\nState: California\\nProfit: 107404.34'),\n",
       " Document(metadata={'source': '50_Startups.csv', 'row': 26}, page_content='R&D Spend: 75328.87\\nAdministration: 144135.98\\nMarketing Spend: 134050.07\\nState: Florida\\nProfit: 105733.54'),\n",
       " Document(metadata={'source': '50_Startups.csv', 'row': 27}, page_content='R&D Spend: 72107.6\\nAdministration: 127864.55\\nMarketing Spend: 353183.81\\nState: New York\\nProfit: 105008.31'),\n",
       " Document(metadata={'source': '50_Startups.csv', 'row': 28}, page_content='R&D Spend: 66051.52\\nAdministration: 182645.56\\nMarketing Spend: 118148.2\\nState: Florida\\nProfit: 103282.38'),\n",
       " Document(metadata={'source': '50_Startups.csv', 'row': 29}, page_content='R&D Spend: 65605.48\\nAdministration: 153032.06\\nMarketing Spend: 107138.38\\nState: New York\\nProfit: 101004.64'),\n",
       " Document(metadata={'source': '50_Startups.csv', 'row': 30}, page_content='R&D Spend: 61994.48\\nAdministration: 115641.28\\nMarketing Spend: 91131.24\\nState: Florida\\nProfit: 99937.59'),\n",
       " Document(metadata={'source': '50_Startups.csv', 'row': 31}, page_content='R&D Spend: 61136.38\\nAdministration: 152701.92\\nMarketing Spend: 88218.23\\nState: New York\\nProfit: 97483.56'),\n",
       " Document(metadata={'source': '50_Startups.csv', 'row': 32}, page_content='R&D Spend: 63408.86\\nAdministration: 129219.61\\nMarketing Spend: 46085.25\\nState: California\\nProfit: 97427.84'),\n",
       " Document(metadata={'source': '50_Startups.csv', 'row': 33}, page_content='R&D Spend: 55493.95\\nAdministration: 103057.49\\nMarketing Spend: 214634.81\\nState: Florida\\nProfit: 96778.92'),\n",
       " Document(metadata={'source': '50_Startups.csv', 'row': 34}, page_content='R&D Spend: 46426.07\\nAdministration: 157693.92\\nMarketing Spend: 210797.67\\nState: California\\nProfit: 96712.8'),\n",
       " Document(metadata={'source': '50_Startups.csv', 'row': 35}, page_content='R&D Spend: 46014.02\\nAdministration: 85047.44\\nMarketing Spend: 205517.64\\nState: New York\\nProfit: 96479.51'),\n",
       " Document(metadata={'source': '50_Startups.csv', 'row': 36}, page_content='R&D Spend: 28663.76\\nAdministration: 127056.21\\nMarketing Spend: 201126.82\\nState: Florida\\nProfit: 90708.19'),\n",
       " Document(metadata={'source': '50_Startups.csv', 'row': 37}, page_content='R&D Spend: 44069.95\\nAdministration: 51283.14\\nMarketing Spend: 197029.42\\nState: California\\nProfit: 89949.14'),\n",
       " Document(metadata={'source': '50_Startups.csv', 'row': 38}, page_content='R&D Spend: 20229.59\\nAdministration: 65947.93\\nMarketing Spend: 185265.1\\nState: New York\\nProfit: 81229.06'),\n",
       " Document(metadata={'source': '50_Startups.csv', 'row': 39}, page_content='R&D Spend: 38558.51\\nAdministration: 82982.09\\nMarketing Spend: 174999.3\\nState: California\\nProfit: 81005.76'),\n",
       " Document(metadata={'source': '50_Startups.csv', 'row': 40}, page_content='R&D Spend: 28754.33\\nAdministration: 118546.05\\nMarketing Spend: 172795.67\\nState: California\\nProfit: 78239.91'),\n",
       " Document(metadata={'source': '50_Startups.csv', 'row': 41}, page_content='R&D Spend: 27892.92\\nAdministration: 84710.77\\nMarketing Spend: 164470.71\\nState: Florida\\nProfit: 77798.83'),\n",
       " Document(metadata={'source': '50_Startups.csv', 'row': 42}, page_content='R&D Spend: 23640.93\\nAdministration: 96189.63\\nMarketing Spend: 148001.11\\nState: California\\nProfit: 71498.49'),\n",
       " Document(metadata={'source': '50_Startups.csv', 'row': 43}, page_content='R&D Spend: 15505.73\\nAdministration: 127382.3\\nMarketing Spend: 35534.17\\nState: New York\\nProfit: 69758.98'),\n",
       " Document(metadata={'source': '50_Startups.csv', 'row': 44}, page_content='R&D Spend: 22177.74\\nAdministration: 154806.14\\nMarketing Spend: 28334.72\\nState: California\\nProfit: 65200.33'),\n",
       " Document(metadata={'source': '50_Startups.csv', 'row': 45}, page_content='R&D Spend: 1000.23\\nAdministration: 124153.04\\nMarketing Spend: 1903.93\\nState: New York\\nProfit: 64926.08'),\n",
       " Document(metadata={'source': '50_Startups.csv', 'row': 46}, page_content='R&D Spend: 1315.46\\nAdministration: 115816.21\\nMarketing Spend: 297114.46\\nState: Florida\\nProfit: 49490.75'),\n",
       " Document(metadata={'source': '50_Startups.csv', 'row': 47}, page_content='R&D Spend: 0\\nAdministration: 135426.92\\nMarketing Spend: 0\\nState: California\\nProfit: 42559.73'),\n",
       " Document(metadata={'source': '50_Startups.csv', 'row': 48}, page_content='R&D Spend: 542.05\\nAdministration: 51743.15\\nMarketing Spend: 0\\nState: New York\\nProfit: 35673.41'),\n",
       " Document(metadata={'source': '50_Startups.csv', 'row': 49}, page_content='R&D Spend: 0\\nAdministration: 116983.8\\nMarketing Spend: 45173.06\\nState: California\\nProfit: 14681.4')]"
      ]
     },
     "execution_count": 8,
     "metadata": {},
     "output_type": "execute_result"
    }
   ],
   "source": [
    "# 5. CSV & DataFrame Loaders\n",
    "\n",
    "# Purpose: Load data from CSVs, Excel, and other tabular sources.\n",
    "\n",
    "from langchain_community.document_loaders import CSVLoader\n",
    "\n",
    "loader = CSVLoader('50_Startups.csv')\n",
    "docs = loader.load()\n",
    "docs\n"
   ]
  },
  {
   "cell_type": "code",
   "execution_count": 9,
   "id": "01173f1a",
   "metadata": {},
   "outputs": [
    {
     "data": {
      "text/plain": [
       "[Document(metadata={}, page_content='id: 1\\nname: John Doe\\nage: 30\\ndepartment: Sales')]"
      ]
     },
     "execution_count": 9,
     "metadata": {},
     "output_type": "execute_result"
    }
   ],
   "source": [
    "# 7. API & Database Loaders\n",
    "\n",
    "# Purpose: Load data from APIs or databases (SQL, NoSQL).\n",
    "\n",
    "# Popular Classes:\n",
    "\n",
    "# SQLDatabaseLoader (for SQL databases)\n",
    "# Custom API loaders (via HTTP requests)\n",
    "\n",
    "from langchain_community.document_loaders import SQLDatabaseLoader\n",
    "from langchain_community.utilities import SQLDatabase\n",
    "\n",
    "# Create the database connection\n",
    "dbEmployee = SQLDatabase.from_uri(\"sqlite:///test.db\")\n",
    "\n",
    "loader = SQLDatabaseLoader(\n",
    "    db=dbEmployee,\n",
    "    query=\"SELECT * FROM employees\"\n",
    ")\n",
    "docs = loader.load()\n",
    "\n",
    "docs\n"
   ]
  },
  {
   "cell_type": "code",
   "execution_count": null,
   "id": "b7b1d7ee",
   "metadata": {},
   "outputs": [],
   "source": []
  }
 ],
 "metadata": {
  "kernelspec": {
   "display_name": "langchainenv",
   "language": "python",
   "name": "python3"
  },
  "language_info": {
   "codemirror_mode": {
    "name": "ipython",
    "version": 3
   },
   "file_extension": ".py",
   "mimetype": "text/x-python",
   "name": "python",
   "nbconvert_exporter": "python",
   "pygments_lexer": "ipython3",
   "version": "3.11.13"
  }
 },
 "nbformat": 4,
 "nbformat_minor": 5
}
