{
 "cells": [
  {
   "cell_type": "markdown",
   "id": "b8d73bdc",
   "metadata": {},
   "source": [
    "🧪 Assignment: Build a Sentiment Classifier Prompt Pipeline\n",
    "\n",
    "🎯 Objective\n",
    "Create a LangChain-based prompt system that:\n",
    "- Explains how sentiment classification works\n",
    "- Gives an example (few-shot style)\n",
    "- Accepts user input and analyzes it\n",
    "- Uses PipelinePromptTemplate to combine everything"
   ]
  },
  {
   "cell_type": "markdown",
   "id": "6a46fa63",
   "metadata": {},
   "source": [
    "📁 Assignment Tasks:\n",
    "\n",
    "✅ Task 1: Introduction Prompt (PromptTemplate)\n",
    "Write a system message that explains the task:\n",
    "“You are a sentiment classifier. Determine if the input is Positive, Negative, or Neutral.”\n",
    "\n",
    "✅ Task 2: FewShot Example Prompt (FewShotPromptTemplate)\n",
    "Provide 2–3 example prompts with their expected labels using a few-shot prompt.\n",
    "examples = [\n",
    "    {\"text\": \"The pizza was delicious and perfectly baked!\", \"label\": \"Positive\"},\n",
    "    {\"text\": \"The food was okay, nothing special.\", \"label\": \"Neutral\"},\n",
    "    {\"text\": \"The service was terrible and I had to wait an hour.\", \"label\": \"Negative\"}\n",
    "]\n",
    "Use an example template like:\n",
    "example_template = PromptTemplate.from_template(\"Input: {text}\\nSentiment: {label}\\n\")\n",
    "\n",
    "✅ Task 3: Execution Prompt (PromptTemplate)\n",
    "Prompt the user to enter new input and format it as:\n",
    "\"Now analyze this review:\\nInput: {input_text}\\nSentiment:\"\n",
    "\n",
    "✅ Task 4: Build a PipelinePromptTemplate\n",
    "Use PipelinePromptTemplate to combine the following:\n",
    "Introduction\n",
    "FewShotPrompt\n",
    "Execution Prompt\n",
    "\n",
    "✅ Task 5: Use ChatPromptTemplate and LLMChain\n",
    "Use ChatPromptTemplate or PromptTemplate with an LLM (like gpt-4o-mini) to:\n",
    "Format the prompt using the pipeline\n",
    "Send the prompt and return the sentiment\n",
    "💡 Bonus Task (Optional)\n",
    "Accept live input from the user using input() or a loop\n",
    "Generate sentiment analysis interactively"
   ]
  },
  {
   "cell_type": "raw",
   "id": "1ba55cf7",
   "metadata": {
    "vscode": {
     "languageId": "raw"
    }
   },
   "source": []
  },
  {
   "cell_type": "markdown",
   "id": "e1285c4d",
   "metadata": {},
   "source": []
  }
 ],
 "metadata": {
  "kernelspec": {
   "display_name": "Python 3",
   "language": "python",
   "name": "python3"
  },
  "language_info": {
   "codemirror_mode": {
    "name": "ipython",
    "version": 3
   },
   "file_extension": ".py",
   "mimetype": "text/x-python",
   "name": "python",
   "nbconvert_exporter": "python",
   "pygments_lexer": "ipython3",
   "version": "3.11.13"
  }
 },
 "nbformat": 4,
 "nbformat_minor": 5
}
