{
 "cells": [
  {
   "cell_type": "code",
   "execution_count": 1,
   "id": "d50fcc8f",
   "metadata": {},
   "outputs": [
    {
     "data": {
      "text/plain": [
       "True"
      ]
     },
     "execution_count": 1,
     "metadata": {},
     "output_type": "execute_result"
    }
   ],
   "source": [
    "from dotenv import load_dotenv, find_dotenv\n",
    "load_dotenv(find_dotenv())"
   ]
  },
  {
   "cell_type": "code",
   "execution_count": 2,
   "id": "85fbd890",
   "metadata": {},
   "outputs": [],
   "source": [
    "TEMPLATE = \"\"\"\n",
    "Interprete the text and evaluate the text.\n",
    "sentiment: is the text in a positive, neutral or negative sentiment? Sentiment is required.\n",
    "subject: What subject is the text about? Use exactly one word. Use 'None' if no subject was provided.\n",
    "price: How much did the customer pay? Use 'None' if no price was provided.\n",
    "\n",
    "Format the output as JSON with the following keys:\n",
    "sentiment\n",
    "subject\n",
    "price\n",
    "\n",
    "text: {input}\n",
    "\"\"\""
   ]
  },
  {
   "cell_type": "code",
   "execution_count": 3,
   "id": "14dd0985",
   "metadata": {},
   "outputs": [],
   "source": [
    "from langchain.prompts import ChatPromptTemplate\n",
    "from langchain_openai import ChatOpenAI\n",
    "from langchain.chains.llm import LLMChain"
   ]
  },
  {
   "cell_type": "code",
   "execution_count": 4,
   "id": "bc198291",
   "metadata": {},
   "outputs": [
    {
     "name": "stderr",
     "output_type": "stream",
     "text": [
      "/var/folders/cc/_kcvjw313pl6kbf8c3bdtnyc0000gn/T/ipykernel_70477/4288336830.py:8: LangChainDeprecationWarning: The class `LLMChain` was deprecated in LangChain 0.1.17 and will be removed in 1.0. Use :meth:`~RunnableSequence, e.g., `prompt | llm`` instead.\n",
      "  chain = LLMChain(llm=llm, prompt=promptTemplate)\n"
     ]
    },
    {
     "data": {
      "text/plain": [
       "{'input': 'I ordered Chicken Pizza from Dominos. It was cold and I didnt like it!',\n",
       " 'text': '```json\\n{\\n  \"sentiment\": \"negative\",\\n  \"subject\": \"Pizza\",\\n  \"price\": \"None\"\\n}\\n```'}"
      ]
     },
     "execution_count": 4,
     "metadata": {},
     "output_type": "execute_result"
    }
   ],
   "source": [
    "#Initialize LLM Model\n",
    "llm = ChatOpenAI(model=\"gpt-4o-mini\", temperature = 0)\n",
    "\n",
    "#Initializing and declaring prompt template\n",
    "promptTemplate = ChatPromptTemplate.from_template(template=TEMPLATE)\n",
    "\n",
    "#Attach LLM and Prompt\n",
    "chain = LLMChain(llm=llm, prompt=promptTemplate)\n",
    "\n",
    "#Perform Query using Chain object\n",
    "chain.invoke(input=\"I ordered Chicken Pizza from Dominos. It was cold and I didnt like it!\")\n",
    "\n"
   ]
  },
  {
   "cell_type": "markdown",
   "id": "f19aa6f0",
   "metadata": {},
   "source": [
    "# ResponseSchema"
   ]
  },
  {
   "cell_type": "code",
   "execution_count": 5,
   "id": "e2424d54",
   "metadata": {},
   "outputs": [
    {
     "name": "stdout",
     "output_type": "stream",
     "text": [
      "[ResponseSchema(name='sentiment', description='is the text in a positive, neutral or negative sentiment? Sentiment is required.', type='string'), ResponseSchema(name='subject', description='What subject is the text about? Use exactly one word.', type='string'), ResponseSchema(name='price', description='How much did the customer pay? Use None if no price was provided.', type='float')]\n"
     ]
    }
   ],
   "source": [
    "from langchain.output_parsers import ResponseSchema, StructuredOutputParser\n",
    "#if type not declared in ResponseSchema, default type is string\n",
    "\n",
    "response_schemas = [\n",
    "    ResponseSchema(name=\"sentiment\", description=\"is the text in a positive, neutral or negative sentiment? Sentiment is required.\"),\n",
    "    ResponseSchema(name=\"subject\", description=\"What subject is the text about? Use exactly one word.\"),\n",
    "    ResponseSchema(name=\"price\", description=\"How much did the customer pay? Use None if no price was provided.\", type=\"float\")\n",
    "]\n",
    "print(response_schemas)"
   ]
  },
  {
   "cell_type": "code",
   "execution_count": 6,
   "id": "133ce7d3",
   "metadata": {},
   "outputs": [
    {
     "name": "stdout",
     "output_type": "stream",
     "text": [
      "The output should be a markdown code snippet formatted in the following schema, including the leading and trailing \"```json\" and \"```\":\n",
      "\n",
      "```json\n",
      "{\n",
      "\t\"sentiment\": string  // is the text in a positive, neutral or negative sentiment? Sentiment is required.\n",
      "\t\"subject\": string  // What subject is the text about? Use exactly one word.\n",
      "\t\"price\": float  // How much did the customer pay? Use None if no price was provided.\n",
      "}\n",
      "```\n"
     ]
    }
   ],
   "source": [
    "parser = StructuredOutputParser.from_response_schemas(response_schemas)\n",
    "formatInstructions = parser.get_format_instructions()\n",
    "print(formatInstructions)"
   ]
  },
  {
   "cell_type": "code",
   "execution_count": 7,
   "id": "59ab7cbe",
   "metadata": {},
   "outputs": [],
   "source": [
    "# Create prompt template\n",
    "from langchain.prompts import ChatPromptTemplate, SystemMessagePromptTemplate\n",
    "\n",
    "prompt = ChatPromptTemplate(\n",
    "    messages=[\n",
    "        SystemMessagePromptTemplate.from_template(\n",
    "            \"Interprete the text and evaluate the text. \"\n",
    "            \"sentiment: is the text in a positive, neutral or negative sentiment? \"\n",
    "            \"subject: What subject is the text about? Use exactly one word. \"\n",
    "            \"Just return the JSON, do not add ANYTHING, NO INTERPRETATION! \"\n",
    "            \"text: {input}\\n\"\n",
    "            \"{format_instructions}\\n\"\n",
    "        )\n",
    "    ],\n",
    "    input_variables=[\"input\"],\n",
    "    partial_variables={\"format_instructions\": formatInstructions}\n",
    ")"
   ]
  },
  {
   "cell_type": "code",
   "execution_count": 8,
   "id": "b5fa3551",
   "metadata": {},
   "outputs": [],
   "source": [
    "#Attach LLM and Prompt\n",
    "chain1 = LLMChain(llm=llm, prompt=prompt)\n",
    "\n",
    "#Perform Query using Chain object\n",
    "output = chain1.invoke(input=\"I ordered Chicken Pizza from Dominos. It was cold and I didnt like it!\")\n",
    "\n"
   ]
  },
  {
   "cell_type": "code",
   "execution_count": 9,
   "id": "78c74964",
   "metadata": {},
   "outputs": [
    {
     "name": "stdout",
     "output_type": "stream",
     "text": [
      "```json\n",
      "{\n",
      "\t\"sentiment\": \"negative\",\n",
      "\t\"subject\": \"Pizza\",\n",
      "\t\"price\": null\n",
      "}\n",
      "```\n"
     ]
    }
   ],
   "source": [
    "print(output['text'])"
   ]
  },
  {
   "cell_type": "code",
   "execution_count": null,
   "id": "fcdc21fa",
   "metadata": {},
   "outputs": [],
   "source": []
  }
 ],
 "metadata": {
  "kernelspec": {
   "display_name": "langchainenv",
   "language": "python",
   "name": "python3"
  },
  "language_info": {
   "codemirror_mode": {
    "name": "ipython",
    "version": 3
   },
   "file_extension": ".py",
   "mimetype": "text/x-python",
   "name": "python",
   "nbconvert_exporter": "python",
   "pygments_lexer": "ipython3",
   "version": "3.11.13"
  }
 },
 "nbformat": 4,
 "nbformat_minor": 5
}
